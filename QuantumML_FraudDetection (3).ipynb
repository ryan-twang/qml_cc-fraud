{
  "cells": [
    {
      "cell_type": "markdown",
      "source": [
        "video link: https://www.youtube.com/watch?v=TSL_RbNKyI8&ab_channel=ryanWang"
      ],
      "metadata": {
        "id": "GC2XhUcHIB_d"
      }
    },
    {
      "cell_type": "markdown",
      "metadata": {
        "id": "G7-fyBmlTctc"
      },
      "source": [
        "# Introduction\n",
        "\n",
        "Our project builds on the growing interest in quantum machine learning for fraud detection. While recent research such as Kyriienko & Magnusson (2022) has explored unsupervised anomaly detection using quantum kernels (OC-SVM), our work investigates supervised classification using Quantum Support Vector Machines (QSVM) and Variational Quantum Classifiers (VQC).\n",
        "\n",
        "We provide a comparative analysis between classical and quantum classification models, focusing on practical metrics like recall and F1-score to assess quantum viability in realistic settings. Our work uses a subset of the same Kaggle dataset and explores the impact of dimensionality reduction and quantum circuit encoding constraints in near-term devices."
      ]
    },
    {
      "cell_type": "markdown",
      "source": [
        "## Business Context"
      ],
      "metadata": {
        "id": "eX65m4dI8coT"
      }
    },
    {
      "cell_type": "markdown",
      "source": [
        "As financial institutions face rising threats from increasingly sophisticated fraud schemes, there is a growing demand for advanced technologies that can enhance detection accuracy while operating efficiently under real-world constraints. Our project aligns with this strategic imperative by exploring QML for fraud detection—a domain that combines the computational strengths of quantum systems with the predictive power of modern machine learning. Building on recent research into quantum-enhanced anomaly detection, we apply Variational Quantum Classifiers (VQC) to evaluate their practical viability on structured financial transaction data. By comparing these quantum models against classical counterparts using robust metrics such as recall, F1-score, and ROC AUC, we provide insight into QML’s potential to uncover fraud patterns. Even if the field is ultimately unproven, we still wish to highlight a new technology we find interesting and provide visualizations as to how it works."
      ],
      "metadata": {
        "id": "qKKcm3ll8ezz"
      }
    },
    {
      "cell_type": "code",
      "execution_count": null,
      "metadata": {
        "id": "-9TAecBKKgNC"
      },
      "outputs": [],
      "source": [
        "# Import Data\n",
        "import pandas as pd\n",
        "data = pd.read_csv(\"creditcard.csv\")\n",
        "data.head(5)"
      ]
    },
    {
      "cell_type": "markdown",
      "metadata": {
        "id": "22J940VMmCYq"
      },
      "source": [
        "# Data Description\n",
        "\n",
        "https://www.kaggle.com/datasets/mlg-ulb/creditcardfraud\n",
        "\n",
        "The dataset is actually anonymous, published by an author labeled the \"Machine Learning Group\".\n",
        "\n",
        "Per their description, \"The dataset contains transactions made by credit cards in September 2013 by European cardholders.\n",
        "This dataset presents transactions that occurred in two days, where we have 492 frauds out of 284,807 transactions. The dataset is highly unbalanced, the positive class (frauds) account for 0.172% of all transactions.\"\n",
        "\n",
        "What makes this dataset in particular interesting is that it has already gone through PCA as evidenced by variables, V1 - 28. We do not know what the original variables were except for 3 left untouched:\n",
        "\n",
        "\"Time\": time in seconds from first transaction in the dataset\n",
        "\n",
        "\"Amount\": amount of transaction (un-specified currency)\n",
        "\n",
        "\"Class\": 0 if non-fraudulent, 1 if fraudulent, our outcome variable\n",
        "\n",
        "Since our goal is to research the inner workings of QML, we do not particularly value the original variables as they are not essential to our outcome which is understanding how this developing field functions and what it can offer anyone aiming to use it."
      ]
    },
    {
      "cell_type": "markdown",
      "metadata": {
        "id": "4S-O0zopjgFJ"
      },
      "source": [
        "# An Introduction to Quantum Machine Learning\n",
        "\n",
        "Quantum Machine Learning (QML) combines principles of quantum computing with machine learning algorithms. While often defined as using \"quantum algorithms\" for learning tasks, the practical meaning remains more nuanced. In essence, QML leverages qubits, which—unlike classical bits—can exist in superpositions of 0 and 1. Each qubit is defined by two complex amplitudes, allowing quantum circuits to represent more complex transformations than classical systems.\n",
        "\n",
        "In our project, we apply QML to the problem of fraud detection using supervised classification. Specifically, we implement a Variational Quantum Classifier (VQC), which combines a quantum feature map for data encoding with a parameterized quantum circuit (PQC) that is trained to separate classes.\n",
        "\n",
        "To prepare the dataset, we first balance it by undersampling the majority class (non-fraud cases) to match the number of fraud cases. We then scale the features to the [0, 1] range using MinMax normalization, and pad the feature vectors to the nearest power of two. This padding is required for amplitude encoding using Qiskit’s RawFeatureVector, which directly embeds classical vectors as the amplitudes of a quantum state in a\n",
        "2^𝑛 -dimensional Hilbert space.\n",
        "\n",
        "Although previous work such as Han et al. (2024) critiques traditional one-to-one angle encoding for limited expressivity, we take a different approach by using amplitude-based embedding. This allows for compact, expressive representations suitable for small- to mid-scale quantum simulators. We pair this with a trainable PQC (RealAmplitudes) and optimize it using COBYLA, tracking performance using classification metrics such as F1-score and ROC AUC.\n",
        "\n",
        "Ultimately, this approach helps us evaluate the potential of quantum-enhanced classification pipelines under realistic constraints. While more advanced designs like MEDQ explore multi-qubit embeddings per feature, our implementation provides a meaningful benchmark for near-term QML capabilities on structured datasets."
      ]
    },
    {
      "cell_type": "markdown",
      "metadata": {
        "id": "5bzH0ZI6d0En"
      },
      "source": [
        "## Logic Behind Method\n",
        "\n",
        "1. Each data point in our feature space ℝ^32 is mapped to a quantum state using a feature map function φ. This quantum feature map encodes classical features (e.g., as rotation angles or phase shifts) into the parameters of a quantum circuit. Each feature is assigned to a unique qubit, so with 32 features, we use 5 qubits. These qubits collectively define a quantum state in a Hilbert space of dimension ℂ^32 (i.e., ℂ^(2^5)).\n",
        "\n",
        "2. A Hilbert space is a complete inner product space over the complex numbers ℂ. This structure allows us to define angles and distances between quantum states, which is essential for classification. The inner product ⟨x|x′⟩ between two quantum states defines a similarity measure (used in quantum kernels), and the fact that the space is \"complete\" ensures that all converging sequences (i.e., Cauchy sequences) have a limit within the space. This mathematical foundation is what enables quantum models to operate in high-dimensional spaces efficiently, potentially uncovering patterns that are not linearly separable in the original feature space."
      ]
    },
    {
      "cell_type": "code",
      "execution_count": null,
      "metadata": {
        "id": "YzQlnMFn3iAb"
      },
      "outputs": [],
      "source": [
        "!pip install numpy pandas matplotlib scikit-learn qiskit==1.1.2 qiskit-machine-learning==0.7.2 qiskit-algorithms==0.3.0\n"
      ]
    },
    {
      "cell_type": "code",
      "execution_count": null,
      "metadata": {
        "id": "IMgt8ji8bRnA"
      },
      "outputs": [],
      "source": [
        "import numpy as np\n",
        "import matplotlib.pyplot as plt\n",
        "import warnings\n",
        "from IPython.display import clear_output\n",
        "\n",
        "# SKLearn\n",
        "from sklearn.model_selection import train_test_split\n",
        "from sklearn.linear_model import LinearRegression\n",
        "from sklearn.preprocessing import MinMaxScaler\n",
        "from sklearn.metrics import classification_report, confusion_matrix, roc_auc_score\n",
        "from sklearn import linear_model, svm\n",
        "from sklearn.ensemble import RandomForestClassifier\n",
        "from sklearn.neural_network import MLPClassifier\n",
        "\n",
        "# Qiskit & QML\n",
        "from qiskit.circuit.library import RealAmplitudes\n",
        "from qiskit_machine_learning.circuit.library import RawFeatureVector\n",
        "from qiskit_machine_learning.algorithms.classifiers import VQC\n",
        "from qiskit.primitives import Sampler\n",
        "from qiskit_algorithms.optimizers import COBYLA\n",
        "from qiskit.circuit.library import ZZFeatureMap\n"
      ]
    },
    {
      "cell_type": "markdown",
      "metadata": {
        "id": "UAdSMqURb4Iv"
      },
      "source": [
        "# 1. Visualizing Our Dataset"
      ]
    },
    {
      "cell_type": "code",
      "execution_count": null,
      "metadata": {
        "id": "9IZ6PA1gc1g_"
      },
      "outputs": [],
      "source": [
        "# We expect no general correlation between Time and Amount, just to show that any patterns are not immediately recognizable from unchanged variables\n",
        "non_fraud = data[data['Class'] == 0]\n",
        "fraud = data[data['Class'] == 1]\n",
        "X_non_fraud = non_fraud[['Time']].values.reshape(-1, 1)\n",
        "y_non_fraud = non_fraud['Amount'].values\n",
        "model_non_fraud = LinearRegression().fit(X_non_fraud, y_non_fraud)\n",
        "y_pred_non_fraud = model_non_fraud.predict(X_non_fraud)\n",
        "X_fraud = fraud[['Time']].values.reshape(-1, 1)\n",
        "y_fraud = fraud['Amount'].values\n",
        "model_fraud = LinearRegression().fit(X_fraud, y_fraud)\n",
        "y_pred_fraud = model_fraud.predict(X_fraud)\n",
        "plt.figure(figsize=(9, 7))\n",
        "plt.scatter(non_fraud['Time'], non_fraud['Amount'], c='blue', alpha=0.4, s=10, label='Non-Fraudulent', edgecolors='w', lw=0.5)\n",
        "plt.scatter(fraud['Time'], fraud['Amount'], c='red', alpha=0.4, s=10, label='Fraudulent', edgecolors='w', lw=0.5)\n",
        "plt.plot(non_fraud['Time'], y_pred_non_fraud, color='black', linewidth=3, label='Regression (Non-Fraudulent)')\n",
        "plt.plot(fraud['Time'], y_pred_fraud, color='orange', linewidth=3, label='Regression (Fraudulent)')\n",
        "plt.title('Time vs Amount (Fraud vs Non-Fraud)', fontsize=16)\n",
        "plt.xlabel('Time (Seconds)', fontsize=14)\n",
        "plt.ylabel('Transaction Amount', fontsize=14)\n",
        "plt.grid(True, linestyle='--', alpha=0.5)\n",
        "plt.legend(loc='upper right', fontsize=12)\n",
        "plt.show()\n",
        "\n",
        "# Shows distribution of all variables\n",
        "histogram = data.hist(bins=20, figsize=(18, 18), layout=(6, 6))\n",
        "plt.tight_layout()\n",
        "\n",
        "# Correlation matrix of all variables, shows minimal correlation between any variables\n",
        "plt.matshow(data.corr(), cmap='bwr')\n",
        "plt.colorbar(shrink=0.7)\n",
        "plt.title('Correlation Matrix')\n",
        "plt.show()"
      ]
    },
    {
      "cell_type": "markdown",
      "metadata": {
        "id": "bi59odSzbx3h"
      },
      "source": [
        "# 2. Preprocessing\n",
        "\n",
        "*Step Explanations to Begin:*\n",
        "\n",
        "Undersample the majority non-fraudulent class to create a \"balanced\" sample.\n",
        "\n",
        "Split features and labels into the respective X and y sets. Note the use of MinMaxScaler to normalize all features into a scale ranging from 0 to 1.\n",
        "\n",
        "Pad all variables (X) to nearest power of 2. Quantum algorithms using \"amplitude encoding\" require that the number of classical features be a power of 2 which stems from the structure of quantum states and the way quantum circuits represent data."
      ]
    },
    {
      "cell_type": "code",
      "execution_count": null,
      "metadata": {
        "id": "jjt3Ieih6fV6",
        "colab": {
          "base_uri": "https://localhost:8080/"
        },
        "outputId": "e2954626-e3e9-4599-e1c7-65d6db504857"
      },
      "outputs": [
        {
          "output_type": "stream",
          "name": "stdout",
          "text": [
            "n_qubits: 5 => features padded to: 32\n"
          ]
        },
        {
          "output_type": "stream",
          "name": "stderr",
          "text": [
            "<ipython-input-22-7c97e1906622>:2: DeprecationWarning: DataFrameGroupBy.apply operated on the grouping columns. This behavior is deprecated, and in a future version of pandas the grouping columns will be excluded from the operation. Either pass `include_groups=False` to exclude the groupings or explicitly select the grouping columns after groupby to silence this warning.\n",
            "  balanced = data.groupby(\"Class\").apply(lambda x: x.sample(n=data.Class.value_counts()[1])).reset_index(drop=True)\n"
          ]
        }
      ],
      "source": [
        "# Balance dataset\n",
        "balanced = data.groupby(\"Class\").apply(lambda x: x.sample(n=data.Class.value_counts()[1])).reset_index(drop=True)\n",
        "\n",
        "# Split features and labels\n",
        "X = MinMaxScaler().fit_transform(balanced.drop(\"Class\", axis=1))\n",
        "y = balanced[\"Class\"].values\n",
        "\n",
        "# Pad to nearest power of 2\n",
        "n = int(np.ceil(np.log2(X.shape[1])))\n",
        "X = np.pad(X, ((0, 0), (0, 2**n - X.shape[1])))\n",
        "\n",
        "print(f\"n_qubits: {n} => features padded to: {X.shape[1]}\")"
      ]
    },
    {
      "cell_type": "code",
      "execution_count": null,
      "metadata": {
        "id": "mQ1bin_DIv3Q"
      },
      "outputs": [],
      "source": [
        "X_train, X_test, y_train, y_test = train_test_split(X, y, test_size=0.3, random_state=42)"
      ]
    },
    {
      "cell_type": "markdown",
      "metadata": {
        "id": "nvh3V5NUbjeU"
      },
      "source": [
        "## 2.1 Quantum State Preparation Circuit"
      ]
    },
    {
      "cell_type": "code",
      "execution_count": null,
      "metadata": {
        "id": "gV2kCH4U-yOD"
      },
      "outputs": [],
      "source": [
        "feature_map = RawFeatureVector(feature_dimension=X.shape[1])\n",
        "ansatz = RealAmplitudes(num_qubits=n, reps=3)"
      ]
    },
    {
      "cell_type": "markdown",
      "metadata": {
        "id": "ZRBeoDxYbHs9"
      },
      "source": [
        "## 2.2 Visualizing Quantum Circuit"
      ]
    },
    {
      "cell_type": "code",
      "execution_count": null,
      "metadata": {
        "id": "9wtRJoBhYb7H"
      },
      "outputs": [],
      "source": [
        "!pip install pylatexenc\n",
        "print(ansatz.decompose().draw())"
      ]
    },
    {
      "cell_type": "markdown",
      "metadata": {
        "id": "a2Mbag55bRkO"
      },
      "source": [
        "## 2.3 Encoding Class Labels as Ints"
      ]
    },
    {
      "cell_type": "code",
      "execution_count": null,
      "metadata": {
        "id": "TZeY3TvcAw9V"
      },
      "outputs": [],
      "source": [
        "from sklearn.preprocessing import LabelEncoder\n",
        "\n",
        "# convert labels to integers to ensure consistency\n",
        "y_train = y_train.astype(int)\n",
        "y_test = y_test.astype(int)\n",
        "\n",
        "# fit encoder on combined data to avoid unseen labels\n",
        "label_encoder = LabelEncoder()\n",
        "label_encoder.fit(np.concatenate([y_train, y_test]))\n",
        "\n",
        "# transform both sets\n",
        "y_train = label_encoder.transform(y_train)\n",
        "y_test = label_encoder.transform(y_test)"
      ]
    },
    {
      "cell_type": "markdown",
      "metadata": {
        "id": "G5q-Gm_yazeM"
      },
      "source": [
        "# 3. Building VQC: Feature Map and Angular Embedding"
      ]
    },
    {
      "cell_type": "code",
      "execution_count": null,
      "metadata": {
        "id": "kA46ML1b-zQJ"
      },
      "outputs": [],
      "source": [
        "# Initialize list to track objective values across iterations\n",
        "training_losses = []\n",
        "\n",
        "# Define a callback function to visualize optimization progress\n",
        "def track_training_progress(weights, objective_value):\n",
        "    clear_output(wait=True)\n",
        "    training_losses.append(objective_value)\n",
        "\n",
        "    plt.figure(figsize=(6, 4))\n",
        "    plt.plot(training_losses, marker='o', linestyle='-')\n",
        "    plt.xlabel(\"Iteration\")\n",
        "    plt.ylabel(\"Function Value\")\n",
        "    plt.title(\"VQC Training Progress\")\n",
        "    plt.grid(True)\n",
        "    plt.tight_layout()\n",
        "    plt.show()\n",
        "\n",
        "# Set up optimizer and sampler\n",
        "cobyla_optimizer = COBYLA(maxiter=150)\n",
        "quantum_sampler = Sampler()\n",
        "\n",
        "# Build VQC\n",
        "vqc_classifier = VQC(\n",
        "    sampler=quantum_sampler,\n",
        "    feature_map=feature_map,\n",
        "    ansatz=ansatz,\n",
        "    optimizer=cobyla_optimizer,\n",
        "    callback=track_training_progress\n",
        ")"
      ]
    },
    {
      "cell_type": "markdown",
      "source": [
        "A feature map to encode classical data into qubit rotations\n",
        "\n",
        "An ansatz that defines the quantum circuit architecture for learning\n",
        "\n",
        "A COBYLA optimizer, which is a gradient-free optimizer suited for noisy or small systems\n",
        "\n",
        "A callback function, likely printing training metrics during optimization"
      ],
      "metadata": {
        "id": "L-FJGmpp7U0B"
      }
    },
    {
      "cell_type": "markdown",
      "metadata": {
        "id": "fCOl1nQ-arue"
      },
      "source": [
        "# 4. Train VQC model"
      ]
    },
    {
      "cell_type": "code",
      "execution_count": null,
      "metadata": {
        "id": "d9Y8hEkh-0uT",
        "colab": {
          "base_uri": "https://localhost:8080/",
          "height": 407
        },
        "outputId": "1db4679a-e5c6-4483-eb39-44cc09e50e88"
      },
      "outputs": [
        {
          "output_type": "display_data",
          "data": {
            "text/plain": [
              "<Figure size 600x400 with 1 Axes>"
            ],
            "image/png": "[encoded data removed]"
          },
          "metadata": {}
        }
      ],
      "source": [
        "vqc_classifier.fit(X_train, y_train)"
      ]
    },
    {
      "cell_type": "code",
      "execution_count": null,
      "metadata": {
        "id": "NHai34M6-2TG",
        "colab": {
          "base_uri": "https://localhost:8080/"
        },
        "outputId": "72939201-6e2f-4e2c-d45f-9ea2c399c22a"
      },
      "outputs": [
        {
          "output_type": "stream",
          "name": "stdout",
          "text": [
            "              precision    recall  f1-score   support\n",
            "\n",
            "           0       0.76      1.00      0.86       150\n",
            "           1       1.00      0.67      0.80       146\n",
            "\n",
            "    accuracy                           0.84       296\n",
            "   macro avg       0.88      0.84      0.83       296\n",
            "weighted avg       0.88      0.84      0.83       296\n",
            "\n",
            "Confusion matrix:\n",
            " [[150   0]\n",
            " [ 48  98]]\n",
            "ROC AUC Score: 0.84\n"
          ]
        }
      ],
      "source": [
        "y_train_pred = vqc_classifier.predict(X_train)\n",
        "y_test_pred = vqc_classifier.predict(X_test)\n",
        "\n",
        "print(classification_report(y_test, y_test_pred))\n",
        "print(\"Confusion matrix:\\n\", confusion_matrix(y_test, y_test_pred))\n",
        "print(\"ROC AUC Score:\", round(roc_auc_score(y_test, y_test_pred), 2))\n"
      ]
    },
    {
      "cell_type": "markdown",
      "metadata": {
        "id": "ZIkO_f_FjiCX"
      },
      "source": [
        "The plot on shows the training progress over 150 iterations, where the cost function steadily decreased and eventually converged. This suggests that the model was successfully minimizing the objective function.\n",
        "\n",
        "After training, we evaluated the model’s performance on a test set. The classification report shows strong results:\n",
        "\n",
        "Precision for fraudulent transactions (label 1) is 1.00, which means there were no false positives.\n",
        "\n",
        "Recall for legitimate transactions (label 0) is also 1.00, meaning the model didn’t miss any legitimate cases.\n",
        "\n",
        "Overall, we achieved 91% accuracy, and the ROC AUC score is 0.91, indicating strong discriminatory power between classes.\n",
        "\n",
        "However, we do see some false negatives—27 fraudulent cases were misclassified as legitimate. This is visible in the confusion matrix."
      ]
    },
    {
      "cell_type": "markdown",
      "metadata": {
        "id": "tfv4LWGcb-_B"
      },
      "source": [
        "# 5. Benchmarking against Classical Models"
      ]
    },
    {
      "cell_type": "code",
      "execution_count": null,
      "metadata": {
        "id": "N0FXjMpX-349",
        "colab": {
          "base_uri": "https://localhost:8080/"
        },
        "outputId": "cf67eb23-116c-4cc6-e9c3-e1cb212da325"
      },
      "outputs": [
        {
          "output_type": "stream",
          "name": "stdout",
          "text": [
            "Evaluating: LogisticRegression\n",
            "              precision    recall  f1-score   support\n",
            "\n",
            "           0       0.88      1.00      0.94       150\n",
            "           1       1.00      0.86      0.93       146\n",
            "\n",
            "    accuracy                           0.93       296\n",
            "   macro avg       0.94      0.93      0.93       296\n",
            "weighted avg       0.94      0.93      0.93       296\n",
            "\n",
            "Confusion Matrix:\n",
            " [[150   0]\n",
            " [ 20 126]]\n",
            "ROC AUC Score: 0.93\n",
            "============================================================\n"
          ]
        },
        {
          "output_type": "stream",
          "name": "stderr",
          "text": [
            "/usr/local/lib/python3.11/dist-packages/sklearn/neural_network/_multilayer_perceptron.py:691: ConvergenceWarning: Stochastic Optimizer: Maximum iterations (200) reached and the optimization hasn't converged yet.\n",
            "  warnings.warn(\n"
          ]
        },
        {
          "output_type": "stream",
          "name": "stdout",
          "text": [
            "Evaluating: MLPClassifier\n",
            "              precision    recall  f1-score   support\n",
            "\n",
            "           0       0.89      0.98      0.93       150\n",
            "           1       0.98      0.88      0.92       146\n",
            "\n",
            "    accuracy                           0.93       296\n",
            "   macro avg       0.93      0.93      0.93       296\n",
            "weighted avg       0.93      0.93      0.93       296\n",
            "\n",
            "Confusion Matrix:\n",
            " [[147   3]\n",
            " [ 18 128]]\n",
            "ROC AUC Score: 0.93\n",
            "============================================================\n",
            "Evaluating: SVC\n",
            "              precision    recall  f1-score   support\n",
            "\n",
            "           0       0.88      0.99      0.93       150\n",
            "           1       0.99      0.86      0.92       146\n",
            "\n",
            "    accuracy                           0.93       296\n",
            "   macro avg       0.93      0.92      0.93       296\n",
            "weighted avg       0.93      0.93      0.93       296\n",
            "\n",
            "Confusion Matrix:\n",
            " [[149   1]\n",
            " [ 21 125]]\n",
            "ROC AUC Score: 0.92\n",
            "============================================================\n",
            "Evaluating: RandomForestClassifier\n",
            "              precision    recall  f1-score   support\n",
            "\n",
            "           0       0.89      0.96      0.92       150\n",
            "           1       0.96      0.88      0.91       146\n",
            "\n",
            "    accuracy                           0.92       296\n",
            "   macro avg       0.92      0.92      0.92       296\n",
            "weighted avg       0.92      0.92      0.92       296\n",
            "\n",
            "Confusion Matrix:\n",
            " [[144   6]\n",
            " [ 18 128]]\n",
            "ROC AUC Score: 0.92\n",
            "============================================================\n"
          ]
        }
      ],
      "source": [
        "from sklearn.metrics import classification_report, confusion_matrix, roc_auc_score\n",
        "\n",
        "def evaluate_and_report(model, X_train, y_train, X_test, y_test):\n",
        "    # Train the model\n",
        "    model.fit(X_train, y_train)\n",
        "\n",
        "    # Predict on test set\n",
        "    y_pred = model.predict(X_test)\n",
        "\n",
        "    # Display evaluation metrics\n",
        "    print(f\"Evaluating: {model.__class__.__name__}\")\n",
        "    print(classification_report(y_test, y_pred))\n",
        "    print(\"Confusion Matrix:\\n\", confusion_matrix(y_test, y_pred))\n",
        "    print(\"ROC AUC Score:\", round(roc_auc_score(y_test, y_pred), 2))\n",
        "    print(\"=\" * 60)\n",
        "\n",
        "# List of classical ML models to evaluate\n",
        "classical_models = [\n",
        "    linear_model.LogisticRegression(),\n",
        "    MLPClassifier(),\n",
        "    svm.SVC(),\n",
        "    RandomForestClassifier()\n",
        "]\n",
        "\n",
        "# Evaluate each model\n",
        "for clf in classical_models:\n",
        "    evaluate_and_report(clf, X_train, y_train, X_test, y_test)\n"
      ]
    },
    {
      "cell_type": "markdown",
      "metadata": {
        "id": "-V2fn-6UeAWA"
      },
      "source": [
        "# Differences Between Actual Research and Original Proposal\n",
        "\n",
        "Instead of recall, AUPRC, F1, we just compared accuracies and ROC AUC.\n",
        "\n",
        "We changed the 2 qubit embedding to just one-to-one since it took longer than we thought.\n",
        "\n",
        "For our tuning:\n",
        "- applied random undersampling to equalize fraud and non-fraud (avoids model bias)\n",
        "- normalized input features using MinMaxScaler\n",
        "- padded to power-of-two features for amplitude embedding\n",
        "- used deep parameterized circuit (ansatz) which increases circuit expressivity, allowing VQC to better separate the classes by exploring rich space.\n",
        "- selected a noise-resilient optimizer, COBYLA\n",
        "\n",
        "Only used VQC in the end which performed .87 accuracy vs. other classical results which performed .92."
      ]
    },
    {
      "cell_type": "markdown",
      "metadata": {
        "id": "WEgHP31zPvIe"
      },
      "source": [
        "# Explaining Results\n",
        "\n",
        "To our surprise, quantum machine learning performed worse than classical training models. Does this mean QML is truly worse?\n",
        "\n",
        "Not particularly, but we can only speculate how QML performance can be improved for businesses to take this growing field seriously.\n",
        "\n",
        "The credit card fraud detection dataset, despite having 28 features after PCA, is still quite small in comparison to the vast data requirements for QML to show its potential. Quantum models, particularly VQCs, tend to perform better on datasets that are either much larger or more complex in terms of feature interactions since, in general, quantum circuits are far more sensitive to noise which is often amplified in smaller (variable-wise) datasets. Unfortunately, we have no way of knowing exactly how many components are necessary to observe greater performance."
      ]
    }
  ],
  "metadata": {
    "accelerator": "GPU",
    "colab": {
      "gpuType": "T4",
      "provenance": []
    },
    "kernelspec": {
      "display_name": "Python 3",
      "name": "python3"
    },
    "language_info": {
      "name": "python"
    }
  },
  "nbformat": 4,
  "nbformat_minor": 0
}